{
 "cells": [
  {
   "cell_type": "markdown",
   "metadata": {},
   "source": [
    "# Associative memory\n",
    "\n",
    "This tutorial introduces the Associative Memory (AM) module in the SPA.\n",
    "\n",
    "An associative memory is a neural network used to store and recall patterns.\n",
    "When the network receives a partial or noisy pattern at the input,\n",
    "it can either recover the same pattern or recall another stored pattern.\n",
    "If the recovered pattern is the same as the input pattern,\n",
    "the memory is said to be autoassociative or a *clean-up* memory.\n",
    "Otherwise, if the recovered pattern is different from the presented one,\n",
    "the network is heteroassociative.\n",
    "\n",
    "Patterns stored by the AM module in the SPA\n",
    "are semantic pointers organised in a SPA vocabulary.\n",
    "The examples in this tutorial demonstrate\n",
    "how to use the AM module to store and recall patterns.\n",
    "Advanced functionality of the module,\n",
    "such as the recall of multiple memories similar to the input,\n",
    "is also presented.\n",
    "\n",
    "A theoretical explanation on how the associative memory is implemented \n",
    "is available in [Stewart et al. 2010](\n",
    "http://compneuro.uwaterloo.ca/files/publications/stewart.2011.pdf)."
   ]
  },
  {
   "cell_type": "code",
   "execution_count": null,
   "metadata": {},
   "outputs": [],
   "source": [
    "%matplotlib inline\n",
    "import matplotlib.pyplot as plt\n",
    "\n",
    "import nengo\n",
    "from nengo import spa"
   ]
  },
  {
   "cell_type": "markdown",
   "metadata": {},
   "source": [
    "## Step 1: Creating an Associative Memory\n",
    "\n",
    "We start by creating a set of patterns the AM will store. \n",
    "The vocabulary in this example contains five words:\n",
    "`ORANGE, APRICOT, CHERRY, STRAWBERRY` and `APPLE`.\n",
    "Each word is represented as a semantic pointer, an $n$-dimensional vector.\n",
    "When creating a vocabulary,\n",
    "we specify the number of dimensions for all semantic pointers.\n",
    "Then, we add the words to the vocabulary with `parse`:"
   ]
  },
  {
   "cell_type": "code",
   "execution_count": null,
   "metadata": {},
   "outputs": [],
   "source": [
    "dim = 32\n",
    "vocab = spa.Vocabulary(dimensions=dim)\n",
    "\n",
    "words = ['ORANGE', 'APRICOT', 'CHERRY', 'STRAWBERRY', 'APPLE']\n",
    "\n",
    "for word in words:\n",
    "    vocab.parse(word)"
   ]
  },
  {
   "cell_type": "markdown",
   "metadata": {},
   "source": [
    "Next, we create an autoassociative memory\n",
    "with a corresponding set of stored patterns.\n",
    "To check the functionality of the memory module,\n",
    "we want to test whether the pattern at the input\n",
    "has been successfully retrieved at the output.\n",
    "\n",
    "The memory is created within a `spa.SPA` module.\n",
    "Using the `spa.Input` module we set\n",
    "the name of the semantic pointer `APPLE`\n",
    "as the input to the associative memory. \n",
    "`nengo.Probe`s have been added to record inputs and outputs of the module,\n",
    "which we plot for visual inspection.\n",
    "Finally, we run the simulation for the 0.2 seconds simulation time."
   ]
  },
  {
   "cell_type": "code",
   "execution_count": null,
   "metadata": {},
   "outputs": [],
   "source": [
    "with spa.SPA('AssociativeMemory', seed=1) as model_1:\n",
    "    # create the AM module\n",
    "    model_1.assoc_mem = spa.AssociativeMemory(input_vocab=vocab)\n",
    "\n",
    "    # present input to the AM\n",
    "    model_1.am_input = spa.Input(assoc_mem='APPLE')\n",
    "\n",
    "    # record the inputs and outputs during the simulation\n",
    "    input_probe = nengo.Probe(model_1.assoc_mem.input)\n",
    "    output_probe = nengo.Probe(model_1.assoc_mem.output, synapse=0.03)\n",
    "\n",
    "with nengo.Simulator(model_1) as sim:\n",
    "    sim.run(0.2)\n",
    "t = sim.trange()"
   ]
  },
  {
   "cell_type": "markdown",
   "metadata": {},
   "source": [
    "We gather the simulation data:"
   ]
  },
  {
   "cell_type": "code",
   "execution_count": null,
   "metadata": {},
   "outputs": [],
   "source": [
    "input_data = sim.data[input_probe]\n",
    "output_data = sim.data[output_probe]\n",
    "print(\"Input dimensions: (%d, %d)\" % input_data.shape)\n",
    "print(\"Output dimensions: (%d, %d)\" % output_data.shape)"
   ]
  },
  {
   "cell_type": "markdown",
   "metadata": {},
   "source": [
    "We use a dot product (implemented in `nengo.spa.similarity`)\n",
    "to compare the similarity of inputs and outputs\n",
    "to all patterns in the vocabulary at every time step.\n",
    "Recall that the first dimension corresponds\n",
    "to the number of time steps and the second dimension\n",
    "to the 32-dimensional pattern represented in the associative memory.\n",
    "If the similarity between the output vector\n",
    "and the input vector is close to one,\n",
    "we can say that the associative memory\n",
    "successfully retrieved the pattern (or cleaned up the input)."
   ]
  },
  {
   "cell_type": "code",
   "execution_count": null,
   "metadata": {
    "collapsed": true
   },
   "outputs": [],
   "source": [
    "def plot_similarities(input_data,\n",
    "                      output_data,\n",
    "                      vocab1,\n",
    "                      vocab2=None,\n",
    "                      autoscale=False):\n",
    "    if vocab2 is None:\n",
    "        vocab2 = vocab1\n",
    "\n",
    "    ymin, ymax = -1.2, 1.2\n",
    "    plt.figure(figsize=(12, 4))\n",
    "    plt.subplot(1, 2, 1)\n",
    "    plt.ylim(ymin, ymax)\n",
    "    if autoscale:\n",
    "        plt.autoscale(autoscale, axis='y')\n",
    "    plt.grid(True)\n",
    "    plt.plot(t, spa.similarity(input_data, vocab1))\n",
    "    plt.title(\"Input similarity\")\n",
    "    plt.xlabel(\"Time\")\n",
    "    plt.xlim(right=t[-1])\n",
    "    plt.legend(\n",
    "        vocab1.keys, loc='upper center', bbox_to_anchor=(0.5, -0.13), ncol=3)\n",
    "\n",
    "    plt.subplot(1, 2, 2)\n",
    "    plt.plot(t, spa.similarity(output_data, vocab2))\n",
    "    plt.title(\"Output similarity\")\n",
    "    plt.xlabel(\"Time\")\n",
    "    plt.xlim(right=t[-1])\n",
    "    plt.ylim(ymin, ymax)\n",
    "    if autoscale:\n",
    "        plt.autoscale(autoscale, axis='y')\n",
    "    plt.grid(True)\n",
    "    plt.legend(\n",
    "        vocab2.keys, loc='upper center', bbox_to_anchor=(0.5, -0.13), ncol=3)\n",
    "    plt.tight_layout()"
   ]
  },
  {
   "cell_type": "code",
   "execution_count": null,
   "metadata": {},
   "outputs": [],
   "source": [
    "plot_similarities(input_data, output_data, vocab)"
   ]
  },
  {
   "cell_type": "markdown",
   "metadata": {
    "collapsed": true
   },
   "source": [
    "We see that the network input has been\n",
    "constant throughout the simulation (`APPLE=1`).\n",
    "Notice that there might be some small similarity\n",
    "between the pattern `APPLE` and some other patterns.\n",
    "This is because the semantic pointers are not perfectly orthogonal\n",
    "and the dot product will amount to some value different from zero.\n",
    "This can be improved by increasing the dimensionality of vectors,\n",
    "yielding more orthogonal representations.\n",
    "At the output, the similarity of the represented semantic pointer\n",
    "with the semantic pointer `APPLE` increases\n",
    "until it reaches the maximal value (`=1`).\n",
    "This means that the associative memory\n",
    "successfully retrieved the input pattern.\n",
    "The exponential increase is due to the synaptic filtering in `nengo.Probe`.\n",
    "This is used to show how the input to another group of neurons\n",
    "connected to the output of this particular AM module would look like."
   ]
  },
  {
   "cell_type": "markdown",
   "metadata": {},
   "source": [
    "## Step 2: Clean-up Memory\n",
    "\n",
    "In the next example, we show the ability of the associative memory\n",
    "to retrieve a clean pattern from a noisy input. \n",
    "This is a very common use of autoassociative memories,\n",
    "also called *clean-up* as the AM removes the noise in the input.\n",
    "\n",
    "Now, we construct a noisy semantic pointer\n",
    "using a combination of several semantic pointers.\n",
    "This is done by passing the expression `0.9*APPLE+0.5*CHERRY+0.4*APRICOT`\n",
    "as the input to the the network.\n",
    "The resulting input vector will still be mostly similar\n",
    "to one semantic pointer (`APPLE`)\n",
    "but is also somewhat similar to other semantic pointers in the vocabulary.\n",
    "Therefore, the task of the network will be to clean up the vector `APPLE`.\n",
    "One way to achieve this in SPA is\n",
    "by using the thresholding mechanism in the AM module.\n",
    "By default, the threshold in `spa.AssociativeMemory` is set to 0.3,\n",
    "assuming that random noise fluctuations in the input \n",
    "should not be contained at the output of the network. \n",
    "By specifying the threshold,\n",
    "the output will be similar only to those inputs\n",
    "whose similarity with a vocabulary item is above a certain value.\n",
    "In this example we will increase the selectivity of the AM\n",
    "by setting the threshold to to a higher value: "
   ]
  },
  {
   "cell_type": "code",
   "execution_count": null,
   "metadata": {},
   "outputs": [],
   "source": [
    "with spa.SPA('CleanupThreshold', seed=1) as model_3:\n",
    "    model_3.assoc_mem = spa.AssociativeMemory(input_vocab=vocab, threshold=0.7)\n",
    "\n",
    "    input_expr = '0.9*APPLE + 0.5*CHERRY + 0.4*APRICOT'\n",
    "    model_3.am_input = spa.Input(assoc_mem=input_expr)\n",
    "\n",
    "    input_probe = nengo.Probe(model_3.assoc_mem.input)\n",
    "    output_probe = nengo.Probe(model_3.assoc_mem.output, synapse=0.03)\n",
    "\n",
    "with nengo.Simulator(model_3) as sim:\n",
    "    sim.run(0.2)\n",
    "t = sim.trange()\n",
    "\n",
    "input_data = sim.data[input_probe]\n",
    "output_data = sim.data[output_probe]\n",
    "\n",
    "plot_similarities(input_data, output_data, vocab)"
   ]
  },
  {
   "cell_type": "markdown",
   "metadata": {},
   "source": [
    "We see that the vector at the input is mostly similar\n",
    "to the semantic pointer `APPLE`\n",
    "and somewhat similar to the semantic pointer `CHERRY`.\n",
    "The vector at the output is very similar to the `APPLE`,\n",
    "indicating that the memory successfully cleaned up the noisy pattern.\n",
    "We can indicate that we want to completely recover the pattern\n",
    "at the output by setting the parameter `threshold_output` to `True`.\n",
    "This will produce a vector at the output\n",
    "which has similarity one with the semantic pointer `APPLE`."
   ]
  },
  {
   "cell_type": "markdown",
   "metadata": {},
   "source": [
    "In some modelling scenarios we might have an input vector\n",
    "which is very similar to several other vectors in the vocabulary:"
   ]
  },
  {
   "cell_type": "code",
   "execution_count": null,
   "metadata": {},
   "outputs": [],
   "source": [
    "with spa.SPA('Cleanup', seed=1) as model_2:\n",
    "    model_2.assoc_mem = spa.AssociativeMemory(input_vocab=vocab)\n",
    "\n",
    "    # noisy input\n",
    "    input_expr = '0.9*APPLE + 0.85*CHERRY + 0.7*APRICOT'\n",
    "    model_2.am_input = spa.Input(assoc_mem=input_expr)\n",
    "\n",
    "    input_probe = nengo.Probe(model_2.assoc_mem.input)\n",
    "    output_probe = nengo.Probe(model_2.assoc_mem.output, synapse=0.03)"
   ]
  },
  {
   "cell_type": "code",
   "execution_count": null,
   "metadata": {
    "scrolled": true
   },
   "outputs": [],
   "source": [
    "with nengo.Simulator(model_2) as sim:\n",
    "    sim.run(0.2)\n",
    "t = sim.trange()\n",
    "\n",
    "input_data = sim.data[input_probe]\n",
    "output_data = sim.data[output_probe]\n",
    "\n",
    "plot_similarities(input_data, output_data, vocab)"
   ]
  },
  {
   "cell_type": "markdown",
   "metadata": {},
   "source": [
    "We see that the input is very similar\n",
    "to semantic pointers `APPLE`, `CHERRY` and somewhat similar to `APRICOT`.\n",
    "In this situation, it might be difficult to determine\n",
    "a fixed threshold which will clean up the input\n",
    "and differentiate between the vectors `APPLE` and `CHERRY`.\n",
    "To ensure that only one vector at the output\n",
    "is similar to the strongest input,\n",
    "we can set the parameter `wta_output` to `True`.\n",
    "`WTA` is a computational principle called winner-take-all,\n",
    "stating that one, mostly active element\n",
    "should be regarded as the winner among possible, less similar alternatives.\n",
    "Again, we set `threshold_output` to `True` to fully recover the pattern:"
   ]
  },
  {
   "cell_type": "code",
   "execution_count": null,
   "metadata": {},
   "outputs": [],
   "source": [
    "with spa.SPA('CleanupThreshold', seed=1) as model_3:\n",
    "    model_3.assoc_mem = spa.AssociativeMemory(\n",
    "        input_vocab=vocab, wta_output=True, threshold_output=True)\n",
    "\n",
    "    input_expr = '0.9*APPLE + 0.85*CHERRY + 0.7*APRICOT'\n",
    "    model_3.am_input = spa.Input(assoc_mem=input_expr)\n",
    "\n",
    "    input_probe = nengo.Probe(model_3.assoc_mem.input)\n",
    "    output_probe = nengo.Probe(model_3.assoc_mem.output, synapse=0.03)\n",
    "\n",
    "with nengo.Simulator(model_3) as sim:\n",
    "    sim.run(0.2)\n",
    "t = sim.trange()\n",
    "\n",
    "input_data = sim.data[input_probe]\n",
    "output_data = sim.data[output_probe]\n",
    "\n",
    "plot_similarities(input_data, output_data, vocab)"
   ]
  },
  {
   "cell_type": "markdown",
   "metadata": {},
   "source": [
    "Although the input vector is very similar to both `APPLE` and `CHERRY`,\n",
    "the memory manages to recover the `APPLE` at the output."
   ]
  },
  {
   "cell_type": "markdown",
   "metadata": {},
   "source": [
    "## Step 3: Heteroassociative relationships\n",
    "\n",
    "To model a variety of interesting memory phenomena,\n",
    "it is often useful to store relationships between different sets of patterns.\n",
    "For example, to simulate number counting from 1 to 5,\n",
    "the memory needs to store the relationships\n",
    "between patterns representing numbers:\n",
    "\n",
    "$1\\rightarrow2,\\ 2\\rightarrow3,\\ 3\\rightarrow4,\\ 4\\rightarrow5$\n",
    "\n",
    "In this example we show how to use `spa.AssociativeMemory` to do this task.\n",
    "In order to achieve the number counting,\n",
    "we will split the task into two parts:\n",
    "\n",
    "1. Present a number at the input and recall\n",
    "   a number greater by one (e.g. for `1` recall `2`, for `2` recall `3` etc.)\n",
    "    \n",
    "2. Feed the output of the associative memory back to its input\n",
    "    \n",
    "As in the previous example,\n",
    "we start by defining a vocabulary that stores\n",
    "semantic pointers representing five numbers.\n",
    "This will be used as the input and as the output vocabulary.\n",
    "In case of hetero-associative memories\n",
    "the input and the output vocabulary can differ."
   ]
  },
  {
   "cell_type": "code",
   "execution_count": null,
   "metadata": {},
   "outputs": [],
   "source": [
    "dim = 16\n",
    "vocab_numbers = spa.Vocabulary(dimensions=dim)\n",
    "\n",
    "# a quicker way to add words to a vocabulary\n",
    "vocab_numbers.parse('ONE + TWO + THREE + FOUR + FIVE')"
   ]
  },
  {
   "cell_type": "markdown",
   "metadata": {},
   "source": [
    "Now, in function `input_fun` we define which semantic pointer\n",
    "is going to be present at the input at certain simulation time.\n",
    "Because we want to achieve a heteroassociative mapping,\n",
    "we need to specify which input patterns map to which output patterns.\n",
    "The desired mapping is specified by providing the `input_keys`\n",
    "and `output_keys` arguments when creating the AM module:"
   ]
  },
  {
   "cell_type": "code",
   "execution_count": null,
   "metadata": {},
   "outputs": [],
   "source": [
    "def input_fun(t):\n",
    "    if t < 0.2:\n",
    "        return 'ONE'\n",
    "    elif t < 0.4:\n",
    "        return 'TWO'\n",
    "    elif t < 0.6:\n",
    "        return 'THREE'\n",
    "    elif t < 0.8:\n",
    "        return 'FOUR'\n",
    "    else:\n",
    "        return '0'\n",
    "\n",
    "\n",
    "# from patterns\n",
    "input_keys = ['ONE', 'TWO', 'THREE', 'FOUR']\n",
    "\n",
    "# to patterns\n",
    "output_keys = ['TWO', 'THREE', 'FOUR', 'FIVE']\n",
    "\n",
    "with spa.SPA('Counting', seed=1) as model_4:\n",
    "    model_4.assoc_mem = spa.AssociativeMemory(\n",
    "        input_vocab=vocab_numbers,\n",
    "        output_vocab=vocab_numbers,\n",
    "        input_keys=input_keys,\n",
    "        output_keys=output_keys,\n",
    "        wta_output=True)\n",
    "\n",
    "    model_4.am_input = spa.Input(assoc_mem=input_fun)\n",
    "\n",
    "    input_probe = nengo.Probe(model_4.assoc_mem.input)\n",
    "    output_probe = nengo.Probe(model_4.assoc_mem.output, synapse=0.03)"
   ]
  },
  {
   "cell_type": "code",
   "execution_count": null,
   "metadata": {},
   "outputs": [],
   "source": [
    "with nengo.Simulator(model_4) as sim:\n",
    "    sim.run(1.)\n",
    "t = sim.trange()\n",
    "\n",
    "input_data = sim.data[input_probe]\n",
    "output_data = sim.data[output_probe]\n",
    "\n",
    "plot_similarities(input_data, output_data, vocab_numbers, autoscale=True)"
   ]
  },
  {
   "cell_type": "markdown",
   "metadata": {},
   "source": [
    "So far we have created a model which realises increments by one.\n",
    "The next step is to automate this,\n",
    "so that when the model sees `ONE` it will produce `TWO, THREE, FOUR, FIVE`.\n",
    "To achieve counting, we need to introduce a feedback connection.\n",
    "That is, the network output\n",
    "needs to be fed into its input at the next time step.\n",
    "This can be easily done in Nengo by adding just one additional connection.\n",
    "Now, we initialise the simulation by presenting\n",
    "the semantic pointer `ONE` at the input\n",
    "for the duration of 0.2 simulation time."
   ]
  },
  {
   "cell_type": "code",
   "execution_count": null,
   "metadata": {},
   "outputs": [],
   "source": [
    "def input_start_fun(t):\n",
    "    if 0 < t < 0.2:\n",
    "        return 'ONE'\n",
    "    else:\n",
    "        return '0'\n",
    "\n",
    "\n",
    "with spa.SPA('Counting', seed=1) as model_5:\n",
    "    model_5.assoc_mem = spa.AssociativeMemory(\n",
    "        input_vocab=vocab_numbers,\n",
    "        output_vocab=vocab_numbers,\n",
    "        input_keys=input_keys,\n",
    "        output_keys=output_keys,\n",
    "        wta_output=True)\n",
    "\n",
    "    model_5.am_input = spa.Input(assoc_mem=input_start_fun)\n",
    "\n",
    "    # added feedback connection\n",
    "    nengo.Connection(\n",
    "        model_5.assoc_mem.output,\n",
    "        model_5.assoc_mem.input,\n",
    "        synapse=.18,\n",
    "        transform=3.3)\n",
    "\n",
    "    input_probe = nengo.Probe(model_5.assoc_mem.input)\n",
    "    output_probe = nengo.Probe(model_5.assoc_mem.output, synapse=0.03)"
   ]
  },
  {
   "cell_type": "code",
   "execution_count": null,
   "metadata": {},
   "outputs": [],
   "source": [
    "with nengo.Simulator(model_5) as sim:\n",
    "    sim.run(1.)\n",
    "t = sim.trange()\n",
    "\n",
    "input_data = sim.data[input_probe]\n",
    "output_data = sim.data[output_probe]\n",
    "\n",
    "plot_similarities(input_data, output_data, vocab_numbers, autoscale=True)"
   ]
  },
  {
   "cell_type": "markdown",
   "metadata": {},
   "source": [
    "The only input our model receives is `ONE`\n",
    "at the beginning of the simulation.\n",
    "After that, it produces a sequence of consecutive numbers up to five.\n",
    "If the sequence of numbers at the output decays too quickly,\n",
    "try re-running all the cells in Step 3.\n",
    "The connection parameters `synapse` and `transform` have been\n",
    "set to arbitrary values which produce the desired sequence.\n",
    "Try modifying them to see how they affect the behaviour."
   ]
  }
 ],
 "metadata": {
  "language_info": {
   "name": "python",
   "pygments_lexer": "ipython3"
  }
 },
 "nbformat": 4,
 "nbformat_minor": 2
}
