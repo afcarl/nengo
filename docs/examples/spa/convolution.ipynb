{
 "cells": [
  {
   "cell_type": "markdown",
   "metadata": {},
   "source": [
    "# Convolution network\n",
    "\n",
    "This demo shows the usage of the convolution network\n",
    "to bind two Semantic Pointers."
   ]
  },
  {
   "cell_type": "code",
   "execution_count": null,
   "metadata": {},
   "outputs": [],
   "source": [
    "%matplotlib inline\n",
    "import matplotlib.pyplot as plt\n",
    "import numpy as np\n",
    "\n",
    "import nengo\n",
    "from nengo import spa\n",
    "from nengo.spa import Vocabulary\n",
    "\n",
    "# Change the seed of this RNG to change the vocabulary\n",
    "rng = np.random.RandomState(0)"
   ]
  },
  {
   "cell_type": "markdown",
   "metadata": {},
   "source": [
    "## Create and run the model\n",
    "\n",
    "Our model is going to compute the convolution (or binding)\n",
    "of two semantic pointers `A` and `B`.\n",
    "We can use the `nengo.spa.Vocabulary` class\n",
    "to create the two random semantic pointers,\n",
    "and compute their exact convolution `C = A * B`."
   ]
  },
  {
   "cell_type": "code",
   "execution_count": null,
   "metadata": {},
   "outputs": [],
   "source": [
    "# Number of dimensions for the Semantic Pointers\n",
    "dimensions = 32\n",
    "\n",
    "vocab = Vocabulary(dimensions=dimensions, rng=rng)\n",
    "\n",
    "# Set `C` to equal the convolution of `A` with `B`. This will be \n",
    "# our ground-truth to test the accuracy of the neural network.\n",
    "vocab.add('C', vocab.parse('A * B'))"
   ]
  },
  {
   "cell_type": "markdown",
   "metadata": {},
   "source": [
    "Our network will then use neurons\n",
    "to compute this same convolution.\n",
    "We use the `spa.Bind` class,\n",
    "which performs circular convolution\n",
    "by taking the Fourier transform of both vectors,\n",
    "performing element-wise complex-number multiplication\n",
    "in the Fourier domain,\n",
    "and finally taking the inverse Fourier transform\n",
    "to get the result."
   ]
  },
  {
   "cell_type": "code",
   "execution_count": null,
   "metadata": {},
   "outputs": [],
   "source": [
    "model = nengo.Network()\n",
    "with model:\n",
    "    # Get the raw vectors for the pointers using `vocab['A'].v`\n",
    "    a = nengo.Node(output=vocab['A'].v)\n",
    "    b = nengo.Node(output=vocab['B'].v)\n",
    "\n",
    "    # Make the circular convolution network with 200 neurons\n",
    "    cconv = spa.Bind(dimensions=dimensions)\n",
    "\n",
    "    # Connect the input nodes to the input slots `A` and `B` on the network\n",
    "    nengo.Connection(a, cconv.A)\n",
    "    nengo.Connection(b, cconv.B)\n",
    "\n",
    "    # Probe the output\n",
    "    out = nengo.Probe(cconv.output, synapse=0.03)"
   ]
  },
  {
   "cell_type": "code",
   "execution_count": null,
   "metadata": {},
   "outputs": [],
   "source": [
    "with nengo.Simulator(model) as sim:\n",
    "    sim.run(1.)"
   ]
  },
  {
   "cell_type": "markdown",
   "metadata": {},
   "source": [
    "## Analyze the results\n",
    "\n",
    "We plot the dot product between\n",
    "the exact convolution of `A` and `B`\n",
    "(given by `vocab.parse('A * B')`),\n",
    "and the result of the neural convolution\n",
    "(given by `sim.data[out]`).\n",
    "\n",
    "The dot product is a common measure\n",
    "of similarity between semantic pointers,\n",
    "since it approximates the cosine similarity\n",
    "when the semantic pointer lengths are close to one.\n",
    "The cosine similarity is a common similarity measure for vectors;\n",
    "it is simply the cosine of the angle between the vectors.\n",
    "\n",
    "Both the dot product and the exact cosine similarity\n",
    "can be computed with `nengo.spa.similarity`.\n",
    "Normally, this function will compute the dot products\n",
    "between each data vector and each vocabulary vector,\n",
    "but setting `normalize=True` normalizes all vectors\n",
    "so that the exact cosine similarity is computed instead."
   ]
  },
  {
   "cell_type": "code",
   "execution_count": null,
   "metadata": {},
   "outputs": [],
   "source": [
    "plt.figure()\n",
    "plt.plot(sim.trange(), nengo.spa.similarity(sim.data[out], vocab))\n",
    "plt.legend(vocab.keys, loc=4)\n",
    "plt.xlabel(\"t [s]\")\n",
    "plt.ylabel(\"dot product\");"
   ]
  },
  {
   "cell_type": "markdown",
   "metadata": {},
   "source": [
    "The above plot shows that the neural output\n",
    "is much closer to `C = A * B` than to either `A` or `B`,\n",
    "suggesting that our network\n",
    "is correctly computing the convolution.\n",
    "It also highlights an important property of circular convolution:\n",
    "the circular convolution of two vectors\n",
    "is dissimilar to both of the vectors.\n",
    "\n",
    "The dot product between the neural output and `C`\n",
    "is not exactly one due in large part to the fact that\n",
    "the length of `C` is not exactly one (see below).\n",
    "To actually measure the cosine similarity between the vectors\n",
    "(that is, the cosine of the angle between the vectors),\n",
    "we have to divide the dot product by\n",
    "the lengths of both `C` and\n",
    "the neural output vector approximating `C`."
   ]
  },
  {
   "cell_type": "code",
   "execution_count": null,
   "metadata": {},
   "outputs": [],
   "source": [
    "# The length of `C` is not exactly one\n",
    "print(vocab['C'].length())"
   ]
  },
  {
   "cell_type": "markdown",
   "metadata": {},
   "source": [
    "Performing this normalization,\n",
    "we can see that the cosine similarity\n",
    "between the neural output vectors and `C`\n",
    "is almost exactly one,\n",
    "demonstrating that the neural population\n",
    "is quite accurate in computing the convolution."
   ]
  },
  {
   "cell_type": "code",
   "execution_count": null,
   "metadata": {},
   "outputs": [],
   "source": [
    "plt.figure()\n",
    "plt.plot(sim.trange(),\n",
    "         nengo.spa.similarity(sim.data[out], vocab, normalize=True))\n",
    "plt.legend(vocab.keys, loc=4)\n",
    "plt.xlabel(\"t [s]\")\n",
    "plt.ylabel(\"cosine similarity\");"
   ]
  }
 ],
 "metadata": {
  "language_info": {
   "name": "python",
   "pygments_lexer": "ipython3"
  }
 },
 "nbformat": 4,
 "nbformat_minor": 2
}
